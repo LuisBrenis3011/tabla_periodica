{
  "nbformat": 4,
  "nbformat_minor": 0,
  "metadata": {
    "colab": {
      "provenance": [],
      "authorship_tag": "ABX9TyPBmA/25q+pgnstidLJKQli",
      "include_colab_link": true
    },
    "kernelspec": {
      "name": "python3",
      "display_name": "Python 3"
    },
    "language_info": {
      "name": "python"
    }
  },
  "cells": [
    {
      "cell_type": "markdown",
      "metadata": {
        "id": "view-in-github",
        "colab_type": "text"
      },
      "source": [
        "<a href=\"https://colab.research.google.com/github/LuisBrenis3011/tabla_periodica/blob/main/ejercicios_elementos_quimicos.ipynb\" target=\"_parent\"><img src=\"https://colab.research.google.com/assets/colab-badge.svg\" alt=\"Open In Colab\"/></a>"
      ]
    },
    {
      "cell_type": "markdown",
      "source": [
        "ejercicio 1"
      ],
      "metadata": {
        "id": "dnV5x7NQ46dL"
      }
    },
    {
      "cell_type": "code",
      "execution_count": null,
      "metadata": {
        "id": "OFr7Mwd1AF5I"
      },
      "outputs": [],
      "source": [
        "!pip install periodictable\n",
        "!pip install googletrans==4.0.0-rc1\n",
        "import random\n",
        "import periodictable\n",
        "from googletrans import Translator\n",
        "\n",
        "elementos_quimicos = list(periodictable.elements)\n",
        "traductor = Translator()\n",
        "\n",
        "def mostrar_pregunta():\n",
        "    elemento = random.choice(elementos_quimicos)\n",
        "    nombre_ingles = elemento.name\n",
        "    traduccion = traductor.translate(nombre_ingles, src='en', dest='es')\n",
        "    nombre_espanol = traduccion.text\n",
        "    pregunta = f\"¿Cuál es el nombre químico del elemento con símbolo {elemento.symbol}?\"\n",
        "    respuesta = nombre_espanol\n",
        "    return pregunta, respuesta\n",
        "\n",
        "def main():\n",
        "    running = True\n",
        "    while running:\n",
        "        pregunta, respuesta = mostrar_pregunta()\n",
        "        print(\"Pregunta:\", pregunta)\n",
        "        respuesta_usuario = input(\"Respuesta: \")\n",
        "\n",
        "        if respuesta_usuario.lower() == respuesta.lower():\n",
        "            print(f\"¡Correcto! El elemento se llama {respuesta}.\")\n",
        "        else:\n",
        "            print(f\"Respuesta incorrecta. La respuesta correcta es {respuesta}.\")\n",
        "\n",
        "        continuar = input(\"¿Quieres jugar de nuevo? (si/no): \")\n",
        "        if continuar.lower() != 'si':\n",
        "            running = False\n",
        "    print(\"Gracias por jugar.\")\n",
        "\n",
        "if __name__ == '__main__':\n",
        "    main()"
      ]
    },
    {
      "cell_type": "markdown",
      "source": [
        "ejercicio 2"
      ],
      "metadata": {
        "id": "k41BSD-r43ti"
      }
    },
    {
      "cell_type": "code",
      "source": [
        "!pip install chempy\n",
        "from chempy import Substance\n",
        "\n",
        "def calculo_masa(formula):\n",
        "    try:\n",
        "        sustancia = Substance.from_formula(formula)\n",
        "        masa_molecular = sustancia.mass\n",
        "        return masa_molecular\n",
        "    except ValueError:\n",
        "        return None\n",
        "\n",
        "def main():\n",
        "    print(\"Ingresa la fórmula química de un compuesto:\")\n",
        "    formula = input(\"> \")\n",
        "\n",
        "    masa_molecular = calculo_masa(formula)\n",
        "\n",
        "    if masa_molecular is not None:\n",
        "        print(f\"La masa molecular de {formula} es {masa_molecular} g/mol.\")\n",
        "    else:\n",
        "        print(\"Fórmula química no válida. Asegúrate de ingresar una fórmula correcta.\")\n",
        "\n",
        "if __name__ == \"__main__\":\n",
        "    main()"
      ],
      "metadata": {
        "id": "QjNDod_rLRML"
      },
      "execution_count": null,
      "outputs": []
    }
  ]
}